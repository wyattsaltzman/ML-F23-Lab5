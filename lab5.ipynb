{
 "cells": [
  {
   "cell_type": "markdown",
   "metadata": {},
   "source": [
    "# Lab 5: Wide and Deep Networks"
   ]
  },
  {
   "cell_type": "markdown",
   "metadata": {},
   "source": [
    "#### Prepartion"
   ]
  },
  {
   "cell_type": "code",
   "execution_count": 1,
   "metadata": {},
   "outputs": [
    {
     "name": "stdout",
     "output_type": "stream",
     "text": [
      "(5110, 12)\n"
     ]
    },
    {
     "data": {
      "text/html": [
       "<div>\n",
       "<style scoped>\n",
       "    .dataframe tbody tr th:only-of-type {\n",
       "        vertical-align: middle;\n",
       "    }\n",
       "\n",
       "    .dataframe tbody tr th {\n",
       "        vertical-align: top;\n",
       "    }\n",
       "\n",
       "    .dataframe thead th {\n",
       "        text-align: right;\n",
       "    }\n",
       "</style>\n",
       "<table border=\"1\" class=\"dataframe\">\n",
       "  <thead>\n",
       "    <tr style=\"text-align: right;\">\n",
       "      <th></th>\n",
       "      <th>id</th>\n",
       "      <th>gender</th>\n",
       "      <th>age</th>\n",
       "      <th>hypertension</th>\n",
       "      <th>heart_disease</th>\n",
       "      <th>ever_married</th>\n",
       "      <th>work_type</th>\n",
       "      <th>Residence_type</th>\n",
       "      <th>avg_glucose_level</th>\n",
       "      <th>bmi</th>\n",
       "      <th>smoking_status</th>\n",
       "      <th>stroke</th>\n",
       "    </tr>\n",
       "  </thead>\n",
       "  <tbody>\n",
       "    <tr>\n",
       "      <th>0</th>\n",
       "      <td>9046</td>\n",
       "      <td>Male</td>\n",
       "      <td>67.0</td>\n",
       "      <td>0</td>\n",
       "      <td>1</td>\n",
       "      <td>Yes</td>\n",
       "      <td>Private</td>\n",
       "      <td>Urban</td>\n",
       "      <td>228.69</td>\n",
       "      <td>36.6</td>\n",
       "      <td>formerly smoked</td>\n",
       "      <td>1</td>\n",
       "    </tr>\n",
       "    <tr>\n",
       "      <th>1</th>\n",
       "      <td>51676</td>\n",
       "      <td>Female</td>\n",
       "      <td>61.0</td>\n",
       "      <td>0</td>\n",
       "      <td>0</td>\n",
       "      <td>Yes</td>\n",
       "      <td>Self-employed</td>\n",
       "      <td>Rural</td>\n",
       "      <td>202.21</td>\n",
       "      <td>NaN</td>\n",
       "      <td>never smoked</td>\n",
       "      <td>1</td>\n",
       "    </tr>\n",
       "    <tr>\n",
       "      <th>2</th>\n",
       "      <td>31112</td>\n",
       "      <td>Male</td>\n",
       "      <td>80.0</td>\n",
       "      <td>0</td>\n",
       "      <td>1</td>\n",
       "      <td>Yes</td>\n",
       "      <td>Private</td>\n",
       "      <td>Rural</td>\n",
       "      <td>105.92</td>\n",
       "      <td>32.5</td>\n",
       "      <td>never smoked</td>\n",
       "      <td>1</td>\n",
       "    </tr>\n",
       "    <tr>\n",
       "      <th>3</th>\n",
       "      <td>60182</td>\n",
       "      <td>Female</td>\n",
       "      <td>49.0</td>\n",
       "      <td>0</td>\n",
       "      <td>0</td>\n",
       "      <td>Yes</td>\n",
       "      <td>Private</td>\n",
       "      <td>Urban</td>\n",
       "      <td>171.23</td>\n",
       "      <td>34.4</td>\n",
       "      <td>smokes</td>\n",
       "      <td>1</td>\n",
       "    </tr>\n",
       "    <tr>\n",
       "      <th>4</th>\n",
       "      <td>1665</td>\n",
       "      <td>Female</td>\n",
       "      <td>79.0</td>\n",
       "      <td>1</td>\n",
       "      <td>0</td>\n",
       "      <td>Yes</td>\n",
       "      <td>Self-employed</td>\n",
       "      <td>Rural</td>\n",
       "      <td>174.12</td>\n",
       "      <td>24.0</td>\n",
       "      <td>never smoked</td>\n",
       "      <td>1</td>\n",
       "    </tr>\n",
       "  </tbody>\n",
       "</table>\n",
       "</div>"
      ],
      "text/plain": [
       "      id  gender   age  hypertension  heart_disease ever_married  \\\n",
       "0   9046    Male  67.0             0              1          Yes   \n",
       "1  51676  Female  61.0             0              0          Yes   \n",
       "2  31112    Male  80.0             0              1          Yes   \n",
       "3  60182  Female  49.0             0              0          Yes   \n",
       "4   1665  Female  79.0             1              0          Yes   \n",
       "\n",
       "       work_type Residence_type  avg_glucose_level   bmi   smoking_status  \\\n",
       "0        Private          Urban             228.69  36.6  formerly smoked   \n",
       "1  Self-employed          Rural             202.21   NaN     never smoked   \n",
       "2        Private          Rural             105.92  32.5     never smoked   \n",
       "3        Private          Urban             171.23  34.4           smokes   \n",
       "4  Self-employed          Rural             174.12  24.0     never smoked   \n",
       "\n",
       "   stroke  \n",
       "0       1  \n",
       "1       1  \n",
       "2       1  \n",
       "3       1  \n",
       "4       1  "
      ]
     },
     "execution_count": 1,
     "metadata": {},
     "output_type": "execute_result"
    }
   ],
   "source": [
    "import pandas as pd \n",
    "import numpy as np\n",
    "import matplotlib.pyplot as plt\n",
    "import seaborn as sns\n",
    "%matplotlib inline\n",
    "\n",
    "# Read the data\n",
    "data = 'healthcare-dataset-stroke-data.csv'\n",
    "df = pd.read_csv(data)\n",
    "print(df.shape)\n",
    "df.head()"
   ]
  },
  {
   "cell_type": "code",
   "execution_count": 2,
   "metadata": {},
   "outputs": [],
   "source": [
    "# drop id column\n",
    "df = df.drop(['id'], axis=1)"
   ]
  },
  {
   "cell_type": "code",
   "execution_count": 3,
   "metadata": {},
   "outputs": [
    {
     "name": "stdout",
     "output_type": "stream",
     "text": [
      "<class 'pandas.core.frame.DataFrame'>\n",
      "RangeIndex: 5110 entries, 0 to 5109\n",
      "Data columns (total 11 columns):\n",
      " #   Column             Non-Null Count  Dtype  \n",
      "---  ------             --------------  -----  \n",
      " 0   gender             5110 non-null   object \n",
      " 1   age                5110 non-null   float64\n",
      " 2   hypertension       5110 non-null   int64  \n",
      " 3   heart_disease      5110 non-null   int64  \n",
      " 4   ever_married       5110 non-null   object \n",
      " 5   work_type          5110 non-null   object \n",
      " 6   Residence_type     5110 non-null   object \n",
      " 7   avg_glucose_level  5110 non-null   float64\n",
      " 8   bmi                4909 non-null   float64\n",
      " 9   smoking_status     5110 non-null   object \n",
      " 10  stroke             5110 non-null   int64  \n",
      "dtypes: float64(3), int64(3), object(5)\n",
      "memory usage: 439.3+ KB\n"
     ]
    }
   ],
   "source": [
    "df.info()"
   ]
  },
  {
   "cell_type": "markdown",
   "metadata": {},
   "source": [
    "The data is organized as follows:\n",
    "\n",
    "|Variable | Description|\n",
    "|---------|------------|\n",
    "|gender| Male/Female|\n",
    "|age| continuous|\n",
    "|hypertension| 0=No, 1=Yes|\n",
    "|heart_disease| 0=No, 1=Yes|\n",
    "|ever_married| No/Yes|\n",
    "|work_type| children, Govt_jov, Never_worked, Private, Self-employed|\n",
    "|Residence_type| Rural/Urban|\n",
    "|avg_glucose_level| continuous|\n",
    "|bmi| continuous|\n",
    "|smoking_status| formerly smoked, never smoked, smokes, Unknown|\n",
    "|`stroke`| 0=No, 1=Yes|"
   ]
  },
  {
   "cell_type": "code",
   "execution_count": 4,
   "metadata": {},
   "outputs": [
    {
     "name": "stdout",
     "output_type": "stream",
     "text": [
      "gender                 0\n",
      "age                    0\n",
      "hypertension           0\n",
      "heart_disease          0\n",
      "ever_married           0\n",
      "work_type              0\n",
      "Residence_type         0\n",
      "avg_glucose_level      0\n",
      "bmi                  201\n",
      "smoking_status         0\n",
      "stroke                 0\n",
      "dtype: int64\n"
     ]
    }
   ],
   "source": [
    "# check for missing values and drop them\n",
    "print(df.isnull().sum())"
   ]
  },
  {
   "cell_type": "markdown",
   "metadata": {},
   "source": [
    "We need to decide if we want to drop all the rows with unknown smoking status or if we want to impute them. We will drop them for now."
   ]
  },
  {
   "cell_type": "code",
   "execution_count": 5,
   "metadata": {},
   "outputs": [
    {
     "name": "stdout",
     "output_type": "stream",
     "text": [
      "(4909, 11)\n",
      "gender               0\n",
      "age                  0\n",
      "hypertension         0\n",
      "heart_disease        0\n",
      "ever_married         0\n",
      "work_type            0\n",
      "Residence_type       0\n",
      "avg_glucose_level    0\n",
      "bmi                  0\n",
      "smoking_status       0\n",
      "stroke               0\n",
      "dtype: int64\n"
     ]
    }
   ],
   "source": [
    "df.dropna(inplace=True)\n",
    "print(df.shape)\n",
    "print(df.isnull().sum())"
   ]
  },
  {
   "cell_type": "code",
   "execution_count": 6,
   "metadata": {},
   "outputs": [
    {
     "data": {
      "text/plain": [
       "0"
      ]
     },
     "execution_count": 6,
     "metadata": {},
     "output_type": "execute_result"
    }
   ],
   "source": [
    "# check for duplicates\n",
    "df.duplicated().sum()"
   ]
  },
  {
   "cell_type": "code",
   "execution_count": 7,
   "metadata": {},
   "outputs": [
    {
     "name": "stdout",
     "output_type": "stream",
     "text": [
      "2.13.0\n"
     ]
    }
   ],
   "source": [
    "import tensorflow as tf\n",
    "from tensorflow import keras\n",
    "\n",
    "print(tf.__version__)"
   ]
  },
  {
   "cell_type": "code",
   "execution_count": 8,
   "metadata": {},
   "outputs": [],
   "source": [
    "from tensorflow.keras.layers import Dense, Input, Activation\n",
    "from tensorflow.keras.layers import Embedding, Flatten, Concatenate\n",
    "from tensorflow.keras.models import Model\n",
    "from tensorflow.keras.utils import plot_model"
   ]
  },
  {
   "cell_type": "code",
   "execution_count": 9,
   "metadata": {},
   "outputs": [
    {
     "name": "stderr",
     "output_type": "stream",
     "text": [
      "2023-11-06 17:15:58.673283: I metal_plugin/src/device/metal_device.cc:1154] Metal device set to: Apple M1 Pro\n",
      "2023-11-06 17:15:58.673306: I metal_plugin/src/device/metal_device.cc:296] systemMemory: 16.00 GB\n",
      "2023-11-06 17:15:58.673311: I metal_plugin/src/device/metal_device.cc:313] maxCacheSize: 5.33 GB\n",
      "2023-11-06 17:15:58.673349: I tensorflow/core/common_runtime/pluggable_device/pluggable_device_factory.cc:303] Could not identify NUMA node of platform GPU ID 0, defaulting to 0. Your kernel may not have been built with NUMA support.\n",
      "2023-11-06 17:15:58.673367: I tensorflow/core/common_runtime/pluggable_device/pluggable_device_factory.cc:269] Created TensorFlow device (/job:localhost/replica:0/task:0/device:GPU:0 with 0 MB memory) -> physical PluggableDevice (device: 0, name: METAL, pci bus id: <undefined>)\n"
     ]
    }
   ],
   "source": [
    "# create a tensorflow dataset\n",
    "batch_size = 64\n",
    "\n",
    "def df_to_dataset(df, shuffle=True, batch_size=batch_size):\n",
    "    df = df.copy()\n",
    "    labels = df.pop('stroke')\n",
    "    ds = tf.data.Dataset.from_tensor_slices((dict(df), labels))\n",
    "    if shuffle:\n",
    "        ds = ds.shuffle(buffer_size=len(df))\n",
    "    ds = ds.batch(batch_size)\n",
    "    return ds\n",
    "\n",
    "ds = df_to_dataset(df)"
   ]
  },
  {
   "cell_type": "code",
   "execution_count": 11,
   "metadata": {},
   "outputs": [
    {
     "name": "stdout",
     "output_type": "stream",
     "text": [
      "Every feature: ['gender', 'age', 'hypertension', 'heart_disease', 'ever_married', 'work_type', 'Residence_type', 'avg_glucose_level', 'bmi', 'smoking_status']\n",
      "Feature shape for age is: (64,)\n",
      "Max: tf.Tensor(82.0, shape=(), dtype=float64)\n"
     ]
    }
   ],
   "source": [
    "# print out the data type of each feature\n",
    "for feature_batch, label_batch in ds.take(1):\n",
    "    print('Every feature:', list(feature_batch.keys()))\n",
    "    # print feature datatype\n",
    "    print('Feature shape for age is:', feature_batch['age'].shape)\n",
    "    print('Max:', max(feature_batch['age']))"
   ]
  },
  {
   "cell_type": "markdown",
   "metadata": {},
   "source": [
    "priotize false negatives for stroke screenings before seeing a doctor."
   ]
  },
  {
   "cell_type": "code",
   "execution_count": 12,
   "metadata": {},
   "outputs": [
    {
     "name": "stderr",
     "output_type": "stream",
     "text": [
      "2023-11-06 17:16:09.216134: I tensorflow/core/grappler/optimizers/custom_graph_optimizer_registry.cc:114] Plugin optimizer for device_type GPU is enabled.\n",
      "2023-11-06 17:16:09.483063: I tensorflow/core/grappler/optimizers/custom_graph_optimizer_registry.cc:114] Plugin optimizer for device_type GPU is enabled.\n",
      "2023-11-06 17:16:09.667099: I tensorflow/core/grappler/optimizers/custom_graph_optimizer_registry.cc:114] Plugin optimizer for device_type GPU is enabled.\n",
      "2023-11-06 17:16:09.857970: I tensorflow/core/grappler/optimizers/custom_graph_optimizer_registry.cc:114] Plugin optimizer for device_type GPU is enabled.\n",
      "2023-11-06 17:16:10.018329: I tensorflow/core/grappler/optimizers/custom_graph_optimizer_registry.cc:114] Plugin optimizer for device_type GPU is enabled.\n",
      "2023-11-06 17:16:10.226542: I tensorflow/core/grappler/optimizers/custom_graph_optimizer_registry.cc:114] Plugin optimizer for device_type GPU is enabled.\n",
      "2023-11-06 17:16:10.237634: I tensorflow/core/grappler/optimizers/custom_graph_optimizer_registry.cc:114] Plugin optimizer for device_type GPU is enabled.\n",
      "2023-11-06 17:16:12.378244: I tensorflow/core/grappler/optimizers/custom_graph_optimizer_registry.cc:114] Plugin optimizer for device_type GPU is enabled.\n",
      "2023-11-06 17:16:12.390824: I tensorflow/core/grappler/optimizers/custom_graph_optimizer_registry.cc:114] Plugin optimizer for device_type GPU is enabled.\n",
      "2023-11-06 17:16:13.373491: I tensorflow/core/grappler/optimizers/custom_graph_optimizer_registry.cc:114] Plugin optimizer for device_type GPU is enabled.\n",
      "2023-11-06 17:16:13.386400: I tensorflow/core/grappler/optimizers/custom_graph_optimizer_registry.cc:114] Plugin optimizer for device_type GPU is enabled.\n",
      "2023-11-06 17:16:14.341078: I tensorflow/core/grappler/optimizers/custom_graph_optimizer_registry.cc:114] Plugin optimizer for device_type GPU is enabled.\n",
      "2023-11-06 17:16:14.512974: I tensorflow/core/grappler/optimizers/custom_graph_optimizer_registry.cc:114] Plugin optimizer for device_type GPU is enabled.\n"
     ]
    }
   ],
   "source": [
    "from tensorflow.keras.utils import FeatureSpace\n",
    "\n",
    "feature_space = FeatureSpace(\n",
    "    features={\n",
    "\n",
    "        # Categorical features encoded as string\n",
    "        'gender': FeatureSpace.string_categorical(num_oov_indices=0),\n",
    "        'ever_married': FeatureSpace.string_categorical(num_oov_indices=0),\n",
    "        'work_type': FeatureSpace.string_categorical(num_oov_indices=0),\n",
    "        'Residence_type': FeatureSpace.string_categorical(num_oov_indices=0),\n",
    "        'smoking_status': FeatureSpace.string_categorical(num_oov_indices=0),\n",
    "\n",
    "        # Numerical features\n",
    "        'age': FeatureSpace.float_discretized(num_bins=10),\n",
    "\n",
    "        # Numerical features to normalize\n",
    "        'avg_glucose_level': FeatureSpace.float_normalized(),\n",
    "        'bmi': FeatureSpace.float_normalized(),\n",
    "\n",
    "        # Categorical features encoded as integers\n",
    "        'hypertension': FeatureSpace.integer_categorical(num_oov_indices=0),\n",
    "        'heart_disease': FeatureSpace.integer_categorical(num_oov_indices=0),\n",
    "    },\n",
    "    output_mode='concat',\n",
    ")\n",
    "\n",
    "# Create a feature space from the dataset\n",
    "ds_no_labels = ds.map(lambda x, _: x)\n",
    "feature_space.adapt(ds_no_labels)\n",
    "preprocessed_ds = ds.map(lambda x, y: (feature_space(x), y), num_parallel_calls=tf.data.AUTOTUNE)\n",
    "preprocessed_ds = preprocessed_ds.prefetch(tf.data.AUTOTUNE)"
   ]
  },
  {
   "cell_type": "code",
   "execution_count": 15,
   "metadata": {},
   "outputs": [
    {
     "name": "stdout",
     "output_type": "stream",
     "text": [
      "Model: \"model_3\"\n",
      "__________________________________________________________________________________________________\n",
      " Layer (type)                Output Shape                 Param #   Connected to                  \n",
      "==================================================================================================\n",
      " Residence_type (InputLayer  [(None, 1)]                  0         []                            \n",
      " )                                                                                                \n",
      "                                                                                                  \n",
      " age (InputLayer)            [(None, 1)]                  0         []                            \n",
      "                                                                                                  \n",
      " ever_married (InputLayer)   [(None, 1)]                  0         []                            \n",
      "                                                                                                  \n",
      " gender (InputLayer)         [(None, 1)]                  0         []                            \n",
      "                                                                                                  \n",
      " heart_disease (InputLayer)  [(None, 1)]                  0         []                            \n",
      "                                                                                                  \n",
      " hypertension (InputLayer)   [(None, 1)]                  0         []                            \n",
      "                                                                                                  \n",
      " smoking_status (InputLayer  [(None, 1)]                  0         []                            \n",
      " )                                                                                                \n",
      "                                                                                                  \n",
      " work_type (InputLayer)      [(None, 1)]                  0         []                            \n",
      "                                                                                                  \n",
      " string_categorical_4_prepr  (None, 1)                    0         ['Residence_type[0][0]']      \n",
      " ocessor (StringLookup)                                                                           \n",
      "                                                                                                  \n",
      " float_discretized_1_prepro  (None, 1)                    0         ['age[0][0]']                 \n",
      " cessor (Discretization)                                                                          \n",
      "                                                                                                  \n",
      " avg_glucose_level (InputLa  [(None, 1)]                  0         []                            \n",
      " yer)                                                                                             \n",
      "                                                                                                  \n",
      " bmi (InputLayer)            [(None, 1)]                  0         []                            \n",
      "                                                                                                  \n",
      " string_categorical_2_prepr  (None, 1)                    0         ['ever_married[0][0]']        \n",
      " ocessor (StringLookup)                                                                           \n",
      "                                                                                                  \n",
      " string_categorical_1_prepr  (None, 1)                    0         ['gender[0][0]']              \n",
      " ocessor (StringLookup)                                                                           \n",
      "                                                                                                  \n",
      " integer_categorical_2_prep  (None, 1)                    0         ['heart_disease[0][0]']       \n",
      " rocessor (IntegerLookup)                                                                         \n",
      "                                                                                                  \n",
      " integer_categorical_1_prep  (None, 1)                    0         ['hypertension[0][0]']        \n",
      " rocessor (IntegerLookup)                                                                         \n",
      "                                                                                                  \n",
      " string_categorical_5_prepr  (None, 1)                    0         ['smoking_status[0][0]']      \n",
      " ocessor (StringLookup)                                                                           \n",
      "                                                                                                  \n",
      " string_categorical_3_prepr  (None, 1)                    0         ['work_type[0][0]']           \n",
      " ocessor (StringLookup)                                                                           \n",
      "                                                                                                  \n",
      " category_encoding (Categor  (None, 2)                    0         ['string_categorical_4_preproc\n",
      " yEncoding)                                                         essor[0][0]']                 \n",
      "                                                                                                  \n",
      " category_encoding_1 (Categ  (None, 10)                   0         ['float_discretized_1_preproce\n",
      " oryEncoding)                                                       ssor[0][0]']                  \n",
      "                                                                                                  \n",
      " float_normalized_1_preproc  (None, 1)                    3         ['avg_glucose_level[0][0]']   \n",
      " essor (Normalization)                                                                            \n",
      "                                                                                                  \n",
      " float_normalized_2_preproc  (None, 1)                    3         ['bmi[0][0]']                 \n",
      " essor (Normalization)                                                                            \n",
      "                                                                                                  \n",
      " category_encoding_2 (Categ  (None, 2)                    0         ['string_categorical_2_preproc\n",
      " oryEncoding)                                                       essor[0][0]']                 \n",
      "                                                                                                  \n",
      " category_encoding_3 (Categ  (None, 3)                    0         ['string_categorical_1_preproc\n",
      " oryEncoding)                                                       essor[0][0]']                 \n",
      "                                                                                                  \n",
      " category_encoding_4 (Categ  (None, 2)                    0         ['integer_categorical_2_prepro\n",
      " oryEncoding)                                                       cessor[0][0]']                \n",
      "                                                                                                  \n",
      " category_encoding_5 (Categ  (None, 2)                    0         ['integer_categorical_1_prepro\n",
      " oryEncoding)                                                       cessor[0][0]']                \n",
      "                                                                                                  \n",
      " category_encoding_6 (Categ  (None, 4)                    0         ['string_categorical_5_preproc\n",
      " oryEncoding)                                                       essor[0][0]']                 \n",
      "                                                                                                  \n",
      " category_encoding_7 (Categ  (None, 5)                    0         ['string_categorical_3_preproc\n",
      " oryEncoding)                                                       essor[0][0]']                 \n",
      "                                                                                                  \n",
      " concatenate (Concatenate)   (None, 32)                   0         ['category_encoding[0][0]',   \n",
      "                                                                     'category_encoding_1[0][0]', \n",
      "                                                                     'float_normalized_1_preproces\n",
      "                                                                    sor[0][0]',                   \n",
      "                                                                     'float_normalized_2_preproces\n",
      "                                                                    sor[0][0]',                   \n",
      "                                                                     'category_encoding_2[0][0]', \n",
      "                                                                     'category_encoding_3[0][0]', \n",
      "                                                                     'category_encoding_4[0][0]', \n",
      "                                                                     'category_encoding_5[0][0]', \n",
      "                                                                     'category_encoding_6[0][0]', \n",
      "                                                                     'category_encoding_7[0][0]'] \n",
      "                                                                                                  \n",
      " dense_6 (Dense)             (None, 64)                   2112      ['concatenate[0][0]']         \n",
      "                                                                                                  \n",
      " dense_7 (Dense)             (None, 32)                   2080      ['dense_6[0][0]']             \n",
      "                                                                                                  \n",
      " dense_8 (Dense)             (None, 1)                    33        ['dense_7[0][0]']             \n",
      "                                                                                                  \n",
      "==================================================================================================\n",
      "Total params: 4231 (16.54 KB)\n",
      "Trainable params: 4225 (16.50 KB)\n",
      "Non-trainable params: 6 (32.00 Byte)\n",
      "__________________________________________________________________________________________________\n"
     ]
    },
    {
     "data": {
      "image/png": "[encoded data removed]",
      "text/plain": [
       "<IPython.core.display.Image object>"
      ]
     },
     "execution_count": 15,
     "metadata": {},
     "output_type": "execute_result"
    }
   ],
   "source": [
    "dict_inputs = feature_space.get_inputs()\n",
    "encoded_features = feature_space.get_encoded_features()\n",
    "\n",
    "# Build the model\n",
    "x = keras.layers.Dense(64, activation='relu')(encoded_features)\n",
    "x = keras.layers.Dense(32, activation='relu')(x)\n",
    "predictions = keras.layers.Dense(1, activation='sigmoid')(x)\n",
    "\n",
    "# this expects features that are already transformed\n",
    "training_model = keras.Model(inputs=encoded_features, outputs=predictions)\n",
    "training_model.compile(optimizer='adam', loss='binary_crossentropy', metrics=['accuracy'])\n",
    "\n",
    "# this expects features that are not transformed\n",
    "inference_model = keras.Model(inputs=dict_inputs, outputs=predictions)\n",
    "inference_model.compile(loss='binary_crossentropy', metrics=['accuracy'])\n",
    "\n",
    "inference_model.summary()\n",
    "\n",
    "plot_model(training_model, show_shapes=True, show_layer_names=True, to_file='model.png',\n",
    "           rankdir='LR', expand_nested=False, dpi=96)"
   ]
  }
 ],
 "metadata": {
  "kernelspec": {
   "display_name": "ML23env",
   "language": "python",
   "name": "python3"
  },
  "language_info": {
   "codemirror_mode": {
    "name": "ipython",
    "version": 3
   },
   "file_extension": ".py",
   "mimetype": "text/x-python",
   "name": "python",
   "nbconvert_exporter": "python",
   "pygments_lexer": "ipython3",
   "version": "3.8.17"
  }
 },
 "nbformat": 4,
 "nbformat_minor": 2
}
